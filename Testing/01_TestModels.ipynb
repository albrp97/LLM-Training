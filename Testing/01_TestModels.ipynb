{
 "cells": [
  {
   "cell_type": "code",
   "execution_count": 6,
   "id": "1f706a59",
   "metadata": {},
   "outputs": [],
   "source": [
    "import re\n",
    "import json\n",
    "from pathlib import Path\n",
    "import pandas as pd\n",
    "import torch\n",
    "from transformers import (\n",
    "    AutoModelForCausalLM,\n",
    "    AutoTokenizer,\n",
    ")\n",
    "\n",
    "device_map = {\"\": 0} if torch.cuda.is_available() else {\"\": \"cpu\"}\n",
    "# Define custom load function\n",
    "def load_custom_model(model_dir):\n",
    "    model = AutoModelForCausalLM.from_pretrained(model_dir, device_map=device_map)\n",
    "    tokenizer = AutoTokenizer.from_pretrained(model_dir, trust_remote_code=True)\n",
    "    return model, tokenizer\n",
    "\n",
    "# Define chat function\n",
    "def chat(model, tokenizer, user_prompt, system_prompt, max_new_tokens=1000):\n",
    "    messages = []\n",
    "    \n",
    "    messages.append({'role': 'user', 'content': user_prompt})\n",
    "    messages.append({'role': 'system', 'content': system_prompt})\n",
    "    inputs = tokenizer.apply_chat_template(messages, add_generation_prompt=True, return_tensors=\"pt\", truncation=True, max_length=model.config.max_position_embeddings, enable_thinking=False).to(model.device)\n",
    "\n",
    "    with torch.no_grad():\n",
    "        outputs = model.generate(inputs, max_new_tokens=max_new_tokens, do_sample=False, top_k=50, num_return_sequences=1, eos_token_id=tokenizer.eos_token_id)\n",
    "\n",
    "    model_response = tokenizer.decode(outputs[0][len(inputs[0]):], skip_special_tokens=True)\n",
    "    \n",
    "\n",
    "    return model_response\n",
    "\n",
    "def evaluate_answer(model_output: str, correct_answer: str) -> bool:\n",
    "    match = re.search(r\"\\\\boxed\\{(.+?)\\}\", model_output)\n",
    "    if not match:\n",
    "        return False  # No valid boxed answer found\n",
    "\n",
    "    extracted = match.group(1).upper()\n",
    "    is_correct = extracted == correct_answer.upper()\n",
    "\n",
    "    return is_correct"
   ]
  },
  {
   "cell_type": "code",
   "execution_count": 7,
   "id": "545b9d06",
   "metadata": {},
   "outputs": [],
   "source": [
    "datasets_info = {\n",
    "    \"test-ai2_arc.parquet\": {\n",
    "        \"system_prompt\": (\n",
    "            \"You are taking a multiple-choice test.\\n\"\n",
    "            \"Each question will have exactly 4 options: A, B, C or D.\\n\"\n",
    "            \"Read the question and choose the correct answer.\\n\"\n",
    "            \"Output the letter of the correct answer inside \\\\boxed{}, like this: \\\\boxed{C}\"\n",
    "        ),\n",
    "        \"context\": False,\n",
    "    },\n",
    "    \n",
    "    \"test-boolq.parquet\": {\n",
    "        \"system_prompt\": (\n",
    "            \"You are answering a True/False question.\\n\"\n",
    "            \"The question will be accompanied by a short passage of context.\\n\"\n",
    "            \"Your answer must be either False or True.\\n\"\n",
    "            \"Output your answer inside \\\\boxed{}, like this: \\\\boxed{True}\"\n",
    "        ),\n",
    "        \"context\": True,\n",
    "    },\n",
    "    \n",
    "    \"test-squad_v2.parquet\": {\n",
    "        \"system_prompt\": (\n",
    "            \"You are answering a question based on a passage.\\n\"\n",
    "            \"Read the context carefully and provide the exact answer span from the passage.\\n\"\n",
    "            \"Do not add extra words or explanations.\\n\"\n",
    "            \"Output your answer inside \\\\boxed{}, like this: \\\\boxed{Einstein}\"\n",
    "        ),\n",
    "        \"context\": True,\n",
    "    }\n",
    "}"
   ]
  },
  {
   "cell_type": "code",
   "execution_count": null,
   "id": "6e13948f",
   "metadata": {},
   "outputs": [
    {
     "name": "stderr",
     "output_type": "stream",
     "text": [
      "The following generation flags are not valid and may be ignored: ['temperature', 'top_p']. Set `TRANSFORMERS_VERBOSITY=info` for more details.\n"
     ]
    },
    {
     "name": "stdout",
     "output_type": "stream",
     "text": [
      "**********************\n",
      "Model: Qwen/Qwen3-0.6B\n"
     ]
    },
    {
     "name": "stderr",
     "output_type": "stream",
     "text": [
      "The following generation flags are not valid and may be ignored: ['temperature', 'top_p']. Set `TRANSFORMERS_VERBOSITY=info` for more details.\n",
      "The following generation flags are not valid and may be ignored: ['temperature', 'top_p']. Set `TRANSFORMERS_VERBOSITY=info` for more details.\n",
      "The following generation flags are not valid and may be ignored: ['temperature', 'top_p']. Set `TRANSFORMERS_VERBOSITY=info` for more details.\n",
      "The following generation flags are not valid and may be ignored: ['temperature', 'top_p']. Set `TRANSFORMERS_VERBOSITY=info` for more details.\n",
      "The following generation flags are not valid and may be ignored: ['temperature', 'top_p']. Set `TRANSFORMERS_VERBOSITY=info` for more details.\n"
     ]
    },
    {
     "name": "stdout",
     "output_type": "stream",
     "text": [
      "**********************\n",
      "Dataset: test-boolq.parquet\n",
      "✅ Total Questions: 5\n",
      "✅ Correct Answers: 1\n",
      "📊 Accuracy: 20.00%\n"
     ]
    },
    {
     "name": "stderr",
     "output_type": "stream",
     "text": [
      "The following generation flags are not valid and may be ignored: ['temperature', 'top_p']. Set `TRANSFORMERS_VERBOSITY=info` for more details.\n",
      "The following generation flags are not valid and may be ignored: ['temperature', 'top_p']. Set `TRANSFORMERS_VERBOSITY=info` for more details.\n",
      "The following generation flags are not valid and may be ignored: ['temperature', 'top_p']. Set `TRANSFORMERS_VERBOSITY=info` for more details.\n",
      "The following generation flags are not valid and may be ignored: ['temperature', 'top_p']. Set `TRANSFORMERS_VERBOSITY=info` for more details.\n",
      "The following generation flags are not valid and may be ignored: ['temperature', 'top_p']. Set `TRANSFORMERS_VERBOSITY=info` for more details.\n"
     ]
    },
    {
     "name": "stdout",
     "output_type": "stream",
     "text": [
      "**********************\n",
      "Dataset: test-squad_v2.parquet\n",
      "✅ Total Questions: 5\n",
      "✅ Correct Answers: 3\n",
      "📊 Accuracy: 60.00%\n"
     ]
    },
    {
     "name": "stderr",
     "output_type": "stream",
     "text": [
      "The following generation flags are not valid and may be ignored: ['temperature', 'top_p']. Set `TRANSFORMERS_VERBOSITY=info` for more details.\n",
      "The following generation flags are not valid and may be ignored: ['temperature', 'top_p']. Set `TRANSFORMERS_VERBOSITY=info` for more details.\n",
      "The following generation flags are not valid and may be ignored: ['temperature', 'top_p']. Set `TRANSFORMERS_VERBOSITY=info` for more details.\n",
      "The following generation flags are not valid and may be ignored: ['temperature', 'top_p']. Set `TRANSFORMERS_VERBOSITY=info` for more details.\n"
     ]
    },
    {
     "name": "stdout",
     "output_type": "stream",
     "text": [
      "**********************\n",
      "Dataset: test-ai2_arc.parquet\n",
      "✅ Total Questions: 5\n",
      "✅ Correct Answers: 4\n",
      "📊 Accuracy: 80.00%\n",
      "\n",
      "💾 Resultados actualizados en benchmark_results.json\n"
     ]
    }
   ],
   "source": [
    "models = [\"Qwen/Qwen3-1.7B\", \"Qwen/Qwen3-0.6B\"]\n",
    "datasets = list(Path(\"../Datasets\").glob('*.parquet'))\n",
    "\n",
    "results_file = Path(\"benchmark_results.json\")\n",
    "if results_file.exists():\n",
    "    with open(results_file, \"r\", encoding=\"utf-8\") as f:\n",
    "        results = json.load(f)\n",
    "else:\n",
    "    results = {}\n",
    "\n",
    "for model_name in models:\n",
    "    if model_name in results:\n",
    "        continue\n",
    "\n",
    "    tokenizer = AutoTokenizer.from_pretrained(model_name)\n",
    "    model = AutoModelForCausalLM.from_pretrained(\n",
    "        model_name,\n",
    "        torch_dtype=\"auto\",\n",
    "        device_map=device_map\n",
    "    )\n",
    "    model_results = {}\n",
    "\n",
    "    print(f\"**********************\")\n",
    "    print(f\"Model: {model_name}\")\n",
    "\n",
    "    for dataset in datasets:\n",
    "        dataset_name = dataset.name\n",
    "\n",
    "        df = pd.read_parquet(dataset)\n",
    "        total = len(df)\n",
    "        correct_count = 0\n",
    "\n",
    "        for idx, row in df.iterrows():\n",
    "            user_prompt = row[\"question\"]\n",
    "\n",
    "            if datasets_info[dataset_name][\"context\"]:\n",
    "                user_prompt += row[\"context\"]\n",
    "\n",
    "            response = chat(model, tokenizer, user_prompt, datasets_info[dataset_name][\"system_prompt\"])\n",
    "\n",
    "            is_correct = evaluate_answer(response, str(row[\"answer\"]))\n",
    "            if is_correct:\n",
    "                correct_count += 1\n",
    "\n",
    "        # --- Final stats ---\n",
    "        accuracy = correct_count / total * 100\n",
    "        model_results[dataset_name] = round(accuracy, 2)\n",
    "        print(f\"**********************\")\n",
    "        print(f\"Dataset: {dataset_name}\")\n",
    "        print(f\"✅ Total Questions: {total}\")\n",
    "        print(f\"✅ Correct Answers: {correct_count}\")\n",
    "        print(f\"📊 Accuracy: {accuracy:.2f}%\")\n",
    "\n",
    "    results[model_name] = model_results\n",
    "\n",
    "# Guardar resultados acumulados\n",
    "with open(results_file, \"w\", encoding=\"utf-8\") as f:\n",
    "    json.dump(results, f, indent=4, ensure_ascii=False)\n",
    "\n",
    "print(\"\\n💾 Resultados actualizados en benchmark_results.json\")"
   ]
  }
 ],
 "metadata": {
  "kernelspec": {
   "display_name": "llm-training (3.12.3)",
   "language": "python",
   "name": "python3"
  },
  "language_info": {
   "codemirror_mode": {
    "name": "ipython",
    "version": 3
   },
   "file_extension": ".py",
   "mimetype": "text/x-python",
   "name": "python",
   "nbconvert_exporter": "python",
   "pygments_lexer": "ipython3",
   "version": "3.12.3"
  }
 },
 "nbformat": 4,
 "nbformat_minor": 5
}
