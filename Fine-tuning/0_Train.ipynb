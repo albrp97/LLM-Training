{
 "cells": [
  {
   "cell_type": "code",
   "execution_count": 2,
   "id": "ec313e84",
   "metadata": {},
   "outputs": [],
   "source": [
    "import torch\n",
    "import pandas as pd\n",
    "from datasets import load_dataset, Dataset\n",
    "from transformers import TrainingArguments, AutoTokenizer, AutoModelForCausalLM\n",
    "from trl import SFTTrainer, SFTConfig\n",
    "from transformers import BitsAndBytesConfig"
   ]
  },
  {
   "cell_type": "code",
   "execution_count": 3,
   "id": "ad96a7bb",
   "metadata": {},
   "outputs": [],
   "source": [
    "def load_model_and_tokenizer(model_name, use_gpu = False):\n",
    "    \n",
    "    # Load base model and tokenizer\n",
    "    tokenizer = AutoTokenizer.from_pretrained(model_name)\n",
    "    model = AutoModelForCausalLM.from_pretrained(model_name)\n",
    "    \n",
    "    if use_gpu:\n",
    "        model.to(\"cuda\")\n",
    "    \n",
    "    if not tokenizer.chat_template:\n",
    "        tokenizer.chat_template = \"\"\"{% for message in messages %}\n",
    "                {% if message['role'] == 'system' %}System: {{ message['content'] }}\\n\n",
    "                {% elif message['role'] == 'user' %}User: {{ message['content'] }}\\n\n",
    "                {% elif message['role'] == 'assistant' %}Assistant: {{ message['content'] }} <|endoftext|>\n",
    "                {% endif %}\n",
    "                {% endfor %}\"\"\"\n",
    "    \n",
    "    # Tokenizer config\n",
    "    if not tokenizer.pad_token:\n",
    "        tokenizer.pad_token = tokenizer.eos_token\n",
    "        \n",
    "    return model, tokenizer\n",
    "\n",
    "def preprocess_function(df, context: bool):\n",
    "    if context:\n",
    "        processed_data = df.apply(lambda row: {\n",
    "            \"prompt\": [{\"role\": \"user\", \"content\": row[\"question\"] + row[\"context\"]}],\n",
    "            \"completion\": [{\"role\": \"assistant\", \"content\": row[\"answer\"]}]\n",
    "        }, axis=1)\n",
    "    else:\n",
    "        processed_data = df.apply(lambda row: {\n",
    "            \"prompt\": [{\"role\": \"user\", \"content\": row[\"question\"]}],\n",
    "            \"completion\": [{\"role\": \"assistant\", \"content\": row[\"answer\"]}]\n",
    "        }, axis=1)\n",
    "\n",
    "    \n",
    "    return processed_data.tolist()"
   ]
  },
  {
   "cell_type": "code",
   "execution_count": 4,
   "id": "a5f124ca",
   "metadata": {},
   "outputs": [],
   "source": [
    "DATASET_CHOICE = \"arc\"       # options: \"arc\", \"boolq\", \"squad\"\n",
    "FINETUNING = \"SFT\"\n",
    "QUANT_METHOD = \"bnb_int8\"    # options: \"bnb_int8\", \"bnb_int4\", \"fp16\"\n",
    "HP_PROFILE = \"fast\"          # options: \"fast\", \"balanced\", \"high_quality\"\n",
    "INFER_MODE = \"chat\"          # options: \"chat\", \"generate\"\n",
    "\n",
    "MODEL_NAME = \"Qwen/Qwen1.5-1.8B\"\n",
    "OUTPUT_DIR = \"./sft_model\"\n",
    "\n",
    "QUANT_METHOD = \"BitsAndBytes\"  # Opciones: dynamic, adaround, brecq, gptq, quarot, awq\n",
    "\n",
    "USE_GPU = False\n",
    "\n",
    "model_name = \"Qwen/Qwen3-0.6B\"\n",
    "model, tokenizer = load_model_and_tokenizer(model_name, USE_GPU)"
   ]
  },
  {
   "cell_type": "code",
   "execution_count": 5,
   "id": "f6a01641",
   "metadata": {},
   "outputs": [
    {
     "name": "stdout",
     "output_type": "stream",
     "text": [
      "Loaded dataset: arc\n"
     ]
    }
   ],
   "source": [
    "# ============================================================\n",
    "# Dataset selection\n",
    "# ============================================================\n",
    "\n",
    "if DATASET_CHOICE == \"arc\":\n",
    "    df = pd.read_parquet(\"../Datasets/test-ai2_arc.parquet\")\n",
    "elif DATASET_CHOICE == \"boolq\":\n",
    "    df = pd.read_parquet(\"../Datasets/test-boolq.parquet\")\n",
    "elif DATASET_CHOICE == \"squad\":\n",
    "    df = pd.read_parquet(\"../Datasets/test-squad_v2.parquet\")\n",
    "else:\n",
    "    raise ValueError(\"Invalid DATASET_CHOICE\")\n",
    "\n",
    "context = DATASET_CHOICE != \"arc\"\n",
    "\n",
    "print(f\"Loaded dataset: {DATASET_CHOICE}\")"
   ]
  },
  {
   "cell_type": "code",
   "execution_count": 16,
   "id": "bb8ba058",
   "metadata": {},
   "outputs": [
    {
     "ename": "TypeError",
     "evalue": "load_in_4bit must be a boolean",
     "output_type": "error",
     "traceback": [
      "\u001b[31m---------------------------------------------------------------------------\u001b[39m",
      "\u001b[31mTypeError\u001b[39m                                 Traceback (most recent call last)",
      "\u001b[36mCell\u001b[39m\u001b[36m \u001b[39m\u001b[32mIn[16]\u001b[39m\u001b[32m, line 13\u001b[39m\n\u001b[32m      9\u001b[39m     bnb_4bit_use_double_quant=\u001b[38;5;28;01mTrue\u001b[39;00m\n\u001b[32m     10\u001b[39m     bnb_4bit_compute_dtype=torch.bfloat16\n\u001b[32m---> \u001b[39m\u001b[32m13\u001b[39m     config = \u001b[43mBitsAndBytesConfig\u001b[49m\u001b[43m(\u001b[49m\n\u001b[32m     14\u001b[39m \u001b[43m        \u001b[49m\u001b[43mload_in_4bit\u001b[49m\u001b[43m=\u001b[49m\u001b[43mload_in_4bit\u001b[49m\u001b[43m,\u001b[49m\n\u001b[32m     15\u001b[39m \u001b[43m        \u001b[49m\u001b[43mbnb_4bit_quant_type\u001b[49m\u001b[43m=\u001b[49m\u001b[43mbnb_4bit_quant_type\u001b[49m\u001b[43m,\u001b[49m\n\u001b[32m     16\u001b[39m \u001b[43m        \u001b[49m\u001b[43mbnb_4bit_use_double_quant\u001b[49m\u001b[43m=\u001b[49m\u001b[43mbnb_4bit_use_double_quant\u001b[49m\u001b[43m,\u001b[49m\n\u001b[32m     17\u001b[39m \u001b[43m        \u001b[49m\u001b[43mbnb_4bit_compute_dtype\u001b[49m\u001b[43m=\u001b[49m\u001b[43mbnb_4bit_compute_dtype\u001b[49m\u001b[43m,\u001b[49m\n\u001b[32m     18\u001b[39m \u001b[43m    \u001b[49m\u001b[43m)\u001b[49m\n\u001b[32m     20\u001b[39m \u001b[38;5;28;01mcase\u001b[39;00m \u001b[33m\"\u001b[39m\u001b[33madaround\u001b[39m\u001b[33m\"\u001b[39m:\n\u001b[32m     21\u001b[39m     \u001b[38;5;28;01mraise\u001b[39;00m \u001b[38;5;167;01mNotImplementedError\u001b[39;00m(\u001b[33m\"\u001b[39m\u001b[33mImplementar AdaRound aquí\u001b[39m\u001b[33m\"\u001b[39m)\n",
      "\u001b[36mFile \u001b[39m\u001b[32m~/Documentos/Programacion/LLM-Training/.venv/lib/python3.12/site-packages/transformers/utils/quantization_config.py:510\u001b[39m, in \u001b[36mBitsAndBytesConfig.__init__\u001b[39m\u001b[34m(self, load_in_8bit, load_in_4bit, llm_int8_threshold, llm_int8_skip_modules, llm_int8_enable_fp32_cpu_offload, llm_int8_has_fp16_weight, bnb_4bit_compute_dtype, bnb_4bit_quant_type, bnb_4bit_use_double_quant, bnb_4bit_quant_storage, **kwargs)\u001b[39m\n\u001b[32m    507\u001b[39m \u001b[38;5;28;01mif\u001b[39;00m kwargs:\n\u001b[32m    508\u001b[39m     logger.info(\u001b[33mf\u001b[39m\u001b[33m\"\u001b[39m\u001b[33mUnused kwargs: \u001b[39m\u001b[38;5;132;01m{\u001b[39;00m\u001b[38;5;28mlist\u001b[39m(kwargs.keys())\u001b[38;5;132;01m}\u001b[39;00m\u001b[33m. These kwargs are not used in \u001b[39m\u001b[38;5;132;01m{\u001b[39;00m\u001b[38;5;28mself\u001b[39m.\u001b[34m__class__\u001b[39m\u001b[38;5;132;01m}\u001b[39;00m\u001b[33m.\u001b[39m\u001b[33m\"\u001b[39m)\n\u001b[32m--> \u001b[39m\u001b[32m510\u001b[39m \u001b[38;5;28;43mself\u001b[39;49m\u001b[43m.\u001b[49m\u001b[43mpost_init\u001b[49m\u001b[43m(\u001b[49m\u001b[43m)\u001b[49m\n",
      "\u001b[36mFile \u001b[39m\u001b[32m~/Documentos/Programacion/LLM-Training/.venv/lib/python3.12/site-packages/transformers/utils/quantization_config.py:543\u001b[39m, in \u001b[36mBitsAndBytesConfig.post_init\u001b[39m\u001b[34m(self)\u001b[39m\n\u001b[32m    539\u001b[39m \u001b[38;5;250m\u001b[39m\u001b[33mr\u001b[39m\u001b[33;03m\"\"\"\u001b[39;00m\n\u001b[32m    540\u001b[39m \u001b[33;03mSafety checker that arguments are correct - also replaces some NoneType arguments with their default values.\u001b[39;00m\n\u001b[32m    541\u001b[39m \u001b[33;03m\"\"\"\u001b[39;00m\n\u001b[32m    542\u001b[39m \u001b[38;5;28;01mif\u001b[39;00m \u001b[38;5;129;01mnot\u001b[39;00m \u001b[38;5;28misinstance\u001b[39m(\u001b[38;5;28mself\u001b[39m.load_in_4bit, \u001b[38;5;28mbool\u001b[39m):\n\u001b[32m--> \u001b[39m\u001b[32m543\u001b[39m     \u001b[38;5;28;01mraise\u001b[39;00m \u001b[38;5;167;01mTypeError\u001b[39;00m(\u001b[33m\"\u001b[39m\u001b[33mload_in_4bit must be a boolean\u001b[39m\u001b[33m\"\u001b[39m)\n\u001b[32m    545\u001b[39m \u001b[38;5;28;01mif\u001b[39;00m \u001b[38;5;129;01mnot\u001b[39;00m \u001b[38;5;28misinstance\u001b[39m(\u001b[38;5;28mself\u001b[39m.load_in_8bit, \u001b[38;5;28mbool\u001b[39m):\n\u001b[32m    546\u001b[39m     \u001b[38;5;28;01mraise\u001b[39;00m \u001b[38;5;167;01mTypeError\u001b[39;00m(\u001b[33m\"\u001b[39m\u001b[33mload_in_8bit must be a boolean\u001b[39m\u001b[33m\"\u001b[39m)\n",
      "\u001b[31mTypeError\u001b[39m: load_in_4bit must be a boolean"
     ]
    }
   ],
   "source": [
    "# --------------------------------------------\n",
    "# MÉTODOS DE CUANTIZACIÓN\n",
    "# --------------------------------------------\n",
    "\n",
    "match QUANT_METHOD:\n",
    "    case \"BitsAndBytes\":\n",
    "        load_in_4bit = True,\n",
    "        bnb_4bit_quant_type=\"nf4\"\n",
    "        bnb_4bit_use_double_quant=True\n",
    "        bnb_4bit_compute_dtype=torch.bfloat16\n",
    "\n",
    "\n",
    "        config = BitsAndBytesConfig(\n",
    "            load_in_4bit=load_in_4bit,\n",
    "            bnb_4bit_quant_type=bnb_4bit_quant_type,\n",
    "            bnb_4bit_use_double_quant=bnb_4bit_use_double_quant,\n",
    "            bnb_4bit_compute_dtype=bnb_4bit_compute_dtype,\n",
    "        )\n",
    "\n",
    "    case \"adaround\":\n",
    "        raise NotImplementedError(\"Implementar AdaRound aquí\")\n",
    "\n",
    "    case \"brecq\":\n",
    "        raise NotImplementedError(\"Implementar BRECQ aquí\")\n",
    "\n",
    "    case \"gptq\":\n",
    "        raise NotImplementedError(\"Implementar GPTQ aquí\")\n",
    "\n",
    "    case \"quarot\":\n",
    "        raise NotImplementedError(\"Implementar QuaRot aquí\")\n",
    "\n",
    "    case \"awq\":\n",
    "        raise NotImplementedError(\"Implementar AWQ aquí\")\n",
    "\n",
    "    case _:\n",
    "        raise ValueError(f\"Método desconocido: {QUANT_METHOD}\")"
   ]
  },
  {
   "cell_type": "code",
   "execution_count": null,
   "id": "4a6ec477",
   "metadata": {},
   "outputs": [],
   "source": [
    "learning_rate = 8e-5 # Learning rate for training. \n",
    "\n",
    "num_train_epochs = 1 #  Set the number of epochs to train the model.\n",
    "\n",
    "per_device_train_batch_size = 1 # Batch size for each device (e.g., GPU) during training. \n",
    "\n",
    "gradient_accumulation_steps = 8 # Number of steps before performing a backward/update pass to accumulate gradients.\n",
    "\n",
    "gradient_checkpointing = False # Enable gradient checkpointing to reduce memory usage during training at the cost of slower training speed.\n",
    "\n",
    "logging_steps = 2  # Frequency of logging training progress (log every 2 steps).\n",
    "\n",
    "train_dataset = preprocess_function(df)\n",
    "\n",
    "# SFTTrainer config \n",
    "sft_config = SFTConfig(\n",
    "    learning_rate=learning_rate,\n",
    "    num_train_epochs=num_train_epochs,\n",
    "    per_device_train_batch_size=per_device_train_batch_size,\n",
    "    gradient_accumulation_steps=gradient_accumulation_steps,\n",
    "    gradient_checkpointing=gradient_checkpointing,\n",
    "    logging_steps=logging_steps\n",
    ")\n",
    "\n",
    "sft_trainer = SFTTrainer(\n",
    "    model=model,\n",
    "    args=sft_config,\n",
    "    train_dataset=train_dataset, \n",
    "    processing_class=tokenizer,\n",
    ")\n",
    "\n",
    "sft_trainer.train()"
   ]
  },
  {
   "cell_type": "code",
   "execution_count": null,
   "id": "0656d07f",
   "metadata": {},
   "outputs": [],
   "source": [
    "# --------------------------------------------\n",
    "# EJEMPLO DE INFERENCIA (común para todos)\n",
    "# --------------------------------------------"
   ]
  }
 ],
 "metadata": {
  "kernelspec": {
   "display_name": "llm-training (3.12.3)",
   "language": "python",
   "name": "python3"
  },
  "language_info": {
   "codemirror_mode": {
    "name": "ipython",
    "version": 3
   },
   "file_extension": ".py",
   "mimetype": "text/x-python",
   "name": "python",
   "nbconvert_exporter": "python",
   "pygments_lexer": "ipython3",
   "version": "3.12.3"
  }
 },
 "nbformat": 4,
 "nbformat_minor": 5
}
