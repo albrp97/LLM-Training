{
 "cells": [
  {
   "cell_type": "code",
   "execution_count": 1,
   "metadata": {},
   "outputs": [
    {
     "name": "stderr",
     "output_type": "stream",
     "text": [
      "/usr/local/lib/python3.10/dist-packages/tqdm/auto.py:21: TqdmWarning: IProgress not found. Please update jupyter and ipywidgets. See https://ipywidgets.readthedocs.io/en/stable/user_install.html\n",
      "  from .autonotebook import tqdm as notebook_tqdm\n"
     ]
    }
   ],
   "source": [
    "import os\n",
    "os.chdir(\"/app\")\n",
    "\n",
    "import torch\n",
    "from datasets import load_dataset\n",
    "from transformers import (\n",
    "    AutoModelForCausalLM,\n",
    "    AutoTokenizer,\n",
    "    BitsAndBytesConfig,\n",
    "    HfArgumentParser,\n",
    "    TrainingArguments,\n",
    "    pipeline,\n",
    "    logging,\n",
    ")\n",
    "from peft import LoraConfig, PeftModel\n",
    "from trl import SFTTrainer\n",
    "from torchinfo import summary\n",
    "from IPython.display import display, Markdown\n",
    "import time\n",
    "\n",
    "device_map = {\"\": 0} if torch.cuda.is_available() else {\"\": \"cpu\"}\n",
    "# Define custom load function\n",
    "def load_custom_model(model_dir):\n",
    "    model = AutoModelForCausalLM.from_pretrained(model_dir, device_map=device_map)\n",
    "    tokenizer = AutoTokenizer.from_pretrained(model_dir, trust_remote_code=True)\n",
    "    return model, tokenizer\n",
    "\n",
    "# Define chat function\n",
    "def chat(model, tokenizer, message, max_new_tokens=1000):\n",
    "    messages = []\n",
    "    \n",
    "    messages.append({'role': 'user', 'content': message})\n",
    "    inputs = tokenizer.apply_chat_template(messages, add_generation_prompt=True, return_tensors=\"pt\", truncation=True, max_length=model.config.max_position_embeddings).to(model.device)\n",
    "\n",
    "    with torch.no_grad():\n",
    "        outputs = model.generate(inputs, max_new_tokens=max_new_tokens, do_sample=False, top_k=50, num_return_sequences=1, eos_token_id=tokenizer.eos_token_id)\n",
    "\n",
    "    model_response = tokenizer.decode(outputs[0][len(inputs[0]):], skip_special_tokens=True)\n",
    "    messages.append({'role': 'system', 'content': model_response})\n",
    "\n",
    "    return model_response"
   ]
  },
  {
   "cell_type": "code",
   "execution_count": 2,
   "metadata": {},
   "outputs": [],
   "source": [
    "model_name = \"Qwen/Qwen2.5-Coder-3B-Instruct-angular-trained-merged\"\n",
    "trained_model, trained_tokenizer = load_custom_model(model_name)"
   ]
  },
  {
   "cell_type": "code",
   "execution_count": 3,
   "metadata": {},
   "outputs": [
    {
     "name": "stderr",
     "output_type": "stream",
     "text": [
      "/usr/local/lib/python3.10/dist-packages/transformers/generation/configuration_utils.py:590: UserWarning: `do_sample` is set to `False`. However, `temperature` is set to `0.7` -- this flag is only used in sample-based generation modes. You should set `do_sample=True` or unset `temperature`.\n",
      "  warnings.warn(\n",
      "/usr/local/lib/python3.10/dist-packages/transformers/generation/configuration_utils.py:595: UserWarning: `do_sample` is set to `False`. However, `top_p` is set to `0.8` -- this flag is only used in sample-based generation modes. You should set `do_sample=True` or unset `top_p`.\n",
      "  warnings.warn(\n"
     ]
    },
    {
     "data": {
      "text/markdown": [
       "**User Prompt:** \n",
       "\n",
       " Create an Angular component named `UserProfileComponent` to display `username`, `email`, and `age` with TypeScript, HTML, and CSS."
      ],
      "text/plain": [
       "<IPython.core.display.Markdown object>"
      ]
     },
     "metadata": {},
     "output_type": "display_data"
    },
    {
     "data": {
      "text/markdown": [
       "**Qwen/Qwen2.5-Coder-3B-Instruct-angular-trained-merged Response:** \n",
       "\n",
       " To create an Angular component named `UserProfileComponent`, you can follow these steps:\n",
       "\n",
       "1. Open your terminal and navigate to the root directory of your Angular project.\n",
       "2. Run the following command to generate the component:\n",
       "   ```\n",
       "   ng generate component user-profile\n",
       "   ```\n",
       "3. This command creates the following files in the `src/app/user-profile/` directory:\n",
       "   * `user-profile.component.ts`\n",
       "   * `user-profile.component.html`\n",
       "   * `user-profile.component.css`\n",
       "4. Open the `user-profile.component.ts` file and add the following code to define the component's properties:\n",
       "   ```\n",
       "   import { Component } from '@angular/core';\n",
       "   \n",
       "   @Component({\n",
       "     selector: 'app-user-profile',\n",
       "     templateUrl: './user-profile.component.html',\n",
       "     styleUrls: ['./user-profile.component.css']\n",
       "   })\n",
       "   export class UserProfileComponent {\n",
       "     username = 'John Doe';\n",
       "     email = 'john.doe@example.com';\n",
       "     age = 30;\n",
       "   }\n",
       "   ```\n",
       "5. Open the `user-profile.component.html` file and add the following code to display the component's properties:\n",
       "   ```\n",
       "   <h2>User Profile</h2>\n",
       "   <p>Username: {{ username }}</p>\n",
       "   <p>Email: {{ email }}</p>\n",
       "   <p>Age: {{ age }}</p>\n",
       "   ```\n",
       "6. Open the `user-profile.component.css` file and add the following code to style the component:\n",
       "   ```\n",
       "   h2 {\n",
       "     color: #333;\n",
       "   }\n",
       "   \n",
       "   p {\n",
       "     margin: 10px 0;\n",
       "   }\n",
       "   ```\n",
       "7. Open the `app.component.html` file and add the following code to include the `UserProfileComponent` in the application:\n",
       "   ```\n",
       "   <app-user-profile></app-user-profile>\n",
       "   ```\n",
       "8. Save all changes.\n",
       "\n",
       "Now, when you run the application, it displays the `UserProfileComponent` on the page. The component displays the `username`, `email`, and `age` properties that you defined in the `UserProfileComponent` class."
      ],
      "text/plain": [
       "<IPython.core.display.Markdown object>"
      ]
     },
     "metadata": {},
     "output_type": "display_data"
    },
    {
     "data": {
      "text/markdown": [
       "**Time taken:** 6.0183141231536865 seconds"
      ],
      "text/plain": [
       "<IPython.core.display.Markdown object>"
      ]
     },
     "metadata": {},
     "output_type": "display_data"
    }
   ],
   "source": [
    "prompt = \"Create an Angular component named `UserProfileComponent` to display `username`, `email`, and `age` with TypeScript, HTML, and CSS.\"\n",
    "\n",
    "start_time = time.time()\n",
    "trained_model_response = chat(trained_model, trained_tokenizer, prompt, max_new_tokens=2000)\n",
    "end_time = time.time()\n",
    "\n",
    "time_taken = end_time - start_time\n",
    "\n",
    "display(Markdown(f\"**User Prompt:** \\n\\n {prompt}\"))\n",
    "display(Markdown(f\"**{model_name} Response:** \\n\\n {trained_model_response}\"))\n",
    "display(Markdown(f\"**Time taken:** {time_taken} seconds\"))"
   ]
  },
  {
   "cell_type": "code",
   "execution_count": 4,
   "metadata": {},
   "outputs": [
    {
     "name": "stderr",
     "output_type": "stream",
     "text": [
      "Generating responses: 100%|██████████| 5/5 [00:56<00:00, 11.33s/it]\n"
     ]
    },
    {
     "data": {
      "text/markdown": [
       "**User Prompt:** \n",
       "\n",
       " Create an Angular component named `UserProfileComponent` to display `username`, `email`, and `age` with TypeScript, HTML, and CSS."
      ],
      "text/plain": [
       "<IPython.core.display.Markdown object>"
      ]
     },
     "metadata": {},
     "output_type": "display_data"
    },
    {
     "data": {
      "text/markdown": [
       "**Model Response:** \n",
       "\n",
       " To create an Angular component named `UserProfileComponent`, you can follow these steps:\n",
       "\n",
       "1. Open your terminal and navigate to the root directory of your Angular project.\n",
       "2. Run the following command to generate the component:\n",
       "   ```\n",
       "   ng generate component user-profile\n",
       "   ```\n",
       "3. This command creates the following files in the `src/app/user-profile/` directory:\n",
       "   * `user-profile.component.ts`\n",
       "   * `user-profile.component.html`\n",
       "   * `user-profile.component.css`\n",
       "4. Open the `user-profile.component.ts` file and add the following code to define the component's properties:\n",
       "   ```\n",
       "   import { Component } from '@angular/core';\n",
       "   \n",
       "   @Component({\n",
       "     selector: 'app-user-profile',\n",
       "     templateUrl: './user-profile.component.html',\n",
       "     styleUrls: ['./user-profile.component.css']\n",
       "   })\n",
       "   export class UserProfileComponent {\n",
       "     username = 'John Doe';\n",
       "     email = 'john.doe@example.com';\n",
       "     age = 30;\n",
       "   }\n",
       "   ```\n",
       "5. Open the `user-profile.component.html` file and add the following code to display the component's properties:\n",
       "   ```\n",
       "   <h2>User Profile</h2>\n",
       "   <p>Username: {{ username }}</p>\n",
       "   <p>Email: {{ email }}</p>\n",
       "   <p>Age: {{ age }}</p>\n",
       "   ```\n",
       "6. Open the `user-profile.component.css` file and add the following code to style the component:\n",
       "   ```\n",
       "   h2 {\n",
       "     color: #333;\n",
       "   }\n",
       "   \n",
       "   p {\n",
       "     margin: 10px 0;\n",
       "   }\n",
       "   ```\n",
       "7. Open the `app.component.html` file and add the following code to include the `UserProfileComponent` in the application:\n",
       "   ```\n",
       "   <app-user-profile></app-user-profile>\n",
       "   ```\n",
       "8. Save all changes.\n",
       "\n",
       "Now, when you run the application, it displays the `UserProfileComponent` on the page. The component displays the `username`, `email`, and `age` properties that you defined in the `UserProfileComponent` class."
      ],
      "text/plain": [
       "<IPython.core.display.Markdown object>"
      ]
     },
     "metadata": {},
     "output_type": "display_data"
    },
    {
     "data": {
      "text/markdown": [
       "**Time taken:** 5.803786516189575 seconds"
      ],
      "text/plain": [
       "<IPython.core.display.Markdown object>"
      ]
     },
     "metadata": {},
     "output_type": "display_data"
    }
   ],
   "source": [
    "import time\n",
    "import json\n",
    "import os\n",
    "from tqdm import tqdm\n",
    "from IPython.display import display, Markdown\n",
    "\n",
    "# List of prompts\n",
    "prompts = [\n",
    "    \"Create an Angular component named `UserProfileComponent` to display `username`, `email`, and `age` with TypeScript, HTML, and CSS.\",\n",
    "    \"Write an Angular service `UserService` with methods for fetching all users (GET `/api/users`), fetching user by ID (GET `/api/users/{id}`), and creating a new user (POST `/api/users`).\",\n",
    "    \"Using Angular generate `ProductFormComponent` with a Reactive Form for `name`, `price`, and `description`, including validation and form submission handling.\",\n",
    "    \"Create a paginated, sortable Angular Material table for `id`, `name`, `department`, and `salary`, with a search bar for filtering by name.\",\n",
    "    \"Set up Angular routing with `/dashboard`, `/users`, `/users/:id`, and redirect other paths to `/dashboard`, including lazy loading for `UsersModule` and guards for `/users`.\"\n",
    "]\n",
    "\n",
    "\n",
    "# Directory to save responses\n",
    "response_dir = \"prompt_responses\"\n",
    "os.makedirs(response_dir, exist_ok=True)\n",
    "\n",
    "# Loop through prompts and generate responses with progress bar\n",
    "for i, prompt in enumerate(tqdm(prompts, desc=\"Generating responses\")):\n",
    "    start_time = time.time()\n",
    "    trained_model_response = chat(trained_model, trained_tokenizer, prompt, max_new_tokens=2000)\n",
    "    end_time = time.time()\n",
    "    \n",
    "    time_taken = end_time - start_time\n",
    "    \n",
    "    response_data = {\n",
    "        \"prompt\": prompt,\n",
    "        \"response\": trained_model_response,\n",
    "        \"time_taken\": time_taken\n",
    "    }\n",
    "    \n",
    "    # Save response to JSON file\n",
    "    with open(os.path.join(response_dir, f\"response_{i+1}.json\"), \"w\") as f:\n",
    "        json.dump(response_data, f)\n",
    "\n",
    "# Function to read and display response in Markdown\n",
    "def read_response(index):\n",
    "    try:\n",
    "        with open(os.path.join(response_dir, f\"response_{index}.json\"), \"r\") as f:\n",
    "            response_data = json.load(f)\n",
    "        \n",
    "        display(Markdown(f\"**User Prompt:** \\n\\n {response_data['prompt']}\"))\n",
    "        display(Markdown(f\"**Model Response:** \\n\\n {response_data['response']}\"))\n",
    "        display(Markdown(f\"**Time taken:** {response_data['time_taken']} seconds\"))\n",
    "    except FileNotFoundError:\n",
    "        print(f\"Response file for index {index} not found.\")\n",
    "\n",
    "# Example usage\n",
    "read_response(1)"
   ]
  },
  {
   "cell_type": "code",
   "execution_count": 5,
   "metadata": {},
   "outputs": [
    {
     "data": {
      "text/markdown": [
       "**User Prompt:** \n",
       "\n",
       " Using Angular generate `ProductFormComponent` with a Reactive Form for `name`, `price`, and `description`, including validation and form submission handling."
      ],
      "text/plain": [
       "<IPython.core.display.Markdown object>"
      ]
     },
     "metadata": {},
     "output_type": "display_data"
    },
    {
     "data": {
      "text/markdown": [
       "**Model Response:** \n",
       "\n",
       " To create a `ProductFormComponent` using Angular's Reactive Forms, you can follow these steps:\n",
       "\n",
       "1. **Generate the Component:**\n",
       "\n",
       "   First, generate the component using the Angular CLI.\n",
       "\n",
       "   ```bash\n",
       "   ng generate component product-form\n",
       "   ```\n",
       "\n",
       "2. **Import Necessary Modules:**\n",
       "\n",
       "   Open the generated `product-form.component.ts` file and import the necessary modules from Angular's forms module.\n",
       "\n",
       "   ```typescript\n",
       "   import { Component } from '@angular/core';\n",
       "   import { FormBuilder, FormGroup, Validators } from '@angular/forms';\n",
       "   ```\n",
       "\n",
       "3. **Create the Form:**\n",
       "\n",
       "   Create a reactive form in the `ngOnInit()` method of the component.\n",
       "\n",
       "   ```typescript\n",
       "   export class ProductFormComponent {\n",
       "     productForm: FormGroup;\n",
       "\n",
       "     constructor(private fb: FormBuilder) {}\n",
       "\n",
       "     ngOnInit() {\n",
       "       this.productForm = this.fb.group({\n",
       "         name: ['', [Validators.required, Validators.minLength(5)]],\n",
       "         price: ['', [Validators.required, Validators.min(0)]],\n",
       "         description: ['', [Validators.required, Validators.minLength(10)]]\n",
       "       });\n",
       "     }\n",
       "   }\n",
       "   ```\n",
       "\n",
       "4. **Add Validation Messages:**\n",
       "\n",
       "   Add validation messages to the component template.\n",
       "\n",
       "   ```html\n",
       "   <form [formGroup]=\"productForm\" (ngSubmit)=\"onSubmit()\">\n",
       "     <div>\n",
       "       <label for=\"name\">Name</label>\n",
       "       <input id=\"name\" formControlName=\"name\">\n",
       "       <span *ngIf=\"productForm.get('name')?.invalid && productForm.get('name')?.touched\">\n",
       "         Name is required and must be at least 5 characters long.\n",
       "       </span>\n",
       "     </div>\n",
       "     <div>\n",
       "       <label for=\"price\">Price</label>\n",
       "       <input id=\"price\" formControlName=\"price\">\n",
       "       <span *ngIf=\"productForm.get('price')?.invalid && productForm.get('price')?.touched\">\n",
       "         Price is required and must be greater than or equal to 0.\n",
       "       </span>\n",
       "     </div>\n",
       "     <div>\n",
       "       <label for=\"description\">Description</label>\n",
       "       <textarea id=\"description\" formControlName=\"description\"></textarea>\n",
       "       <span *ngIf=\"productForm.get('description')?.invalid && productForm.get('description')?.touched\">\n",
       "         Description is required and must be at least 10 characters long.\n",
       "       </span>\n",
       "     </div>\n",
       "     <button type=\"submit\" [disabled]=\"productForm.invalid\">Submit</button>\n",
       "   </form>\n",
       "   ```\n",
       "\n",
       "5. **Handle Form Submission:**\n",
       "\n",
       "   Handle the form submission in the `onSubmit()` method.\n",
       "\n",
       "   ```typescript\n",
       "   onSubmit() {\n",
       "     if (this.productForm.valid) {\n",
       "       console.log(this.productForm.value);\n",
       "     }\n",
       "   }\n",
       "   ```\n",
       "\n",
       "6. **Add the Component to the App Module:**\n",
       "\n",
       "   Finally, add the new component to the `AppModule` so that it can be used in the application.\n",
       "\n",
       "   ```typescript\n",
       "   import { NgModule } from '@angular/core';\n",
       "   import { BrowserModule } from '@angular/platform-browser';\n",
       "\n",
       "   import { AppComponent } from './app.component';\n",
       "   import { ProductFormComponent } from './product-form/product-form.component';\n",
       "\n",
       "   @NgModule({\n",
       "     declarations: [\n",
       "       AppComponent,\n",
       "       ProductFormComponent\n",
       "     ],\n",
       "     imports: [\n",
       "       BrowserModule\n",
       "     ],\n",
       "     providers: [],\n",
       "     bootstrap: [AppComponent]\n",
       "   })\n",
       "   export class AppModule { }\n",
       "   ```\n",
       "\n",
       "7. **Use the Component in the App Component:**\n",
       "\n",
       "   Use the new component in the `AppComponent`.\n",
       "\n",
       "   ```html\n",
       "   <h1>Product Form</h1>\n",
       "   <product-form></product-form>\n",
       "   ```\n",
       "\n",
       "8. **Run the Application:**\n",
       "\n",
       "   Run the application to see the form in action.\n",
       "\n",
       "   ```bash\n",
       "   ng serve\n",
       "   ```\n",
       "\n",
       "   The following image shows the form in action.\n",
       "\n",
       "   ![Product form](assets/images/product-form.png)\n",
       "\n",
       "For more information on Angular's Reactive Forms, see the [Reactive Forms guide]."
      ],
      "text/plain": [
       "<IPython.core.display.Markdown object>"
      ]
     },
     "metadata": {},
     "output_type": "display_data"
    },
    {
     "data": {
      "text/markdown": [
       "**Time taken:** 12.00257420539856 seconds"
      ],
      "text/plain": [
       "<IPython.core.display.Markdown object>"
      ]
     },
     "metadata": {},
     "output_type": "display_data"
    }
   ],
   "source": [
    "read_response(3)"
   ]
  },
  {
   "cell_type": "code",
   "execution_count": 6,
   "metadata": {},
   "outputs": [],
   "source": [
    "import os\n",
    "import json\n",
    "\n",
    "def merge_responses_to_markdown(response_dir, output_file):\n",
    "    with open(output_file, \"w\") as outfile:\n",
    "        for filename in sorted(os.listdir(response_dir)):\n",
    "            if filename.endswith(\".json\"):\n",
    "                with open(os.path.join(response_dir, filename), \"r\") as infile:\n",
    "                    response_data = json.load(infile)\n",
    "                    outfile.write(f\"**User Prompt:** \\n\\n {response_data['prompt']}\\n\\n\")\n",
    "                    outfile.write(f\"**Model Response:** \\n\\n {response_data['response']}\\n\\n\")\n",
    "                    outfile.write(f\"**Time taken:** {response_data['time_taken']} seconds\\n\")\n",
    "                    outfile.write(\"\\n---\\n\\n\")  # Separator between responses\n",
    "\n",
    "# Example usage\n",
    "merge_responses_to_markdown(\"prompt_responses\", \"output.md\")"
   ]
  }
 ],
 "metadata": {
  "kernelspec": {
   "display_name": "Python 3",
   "language": "python",
   "name": "python3"
  },
  "language_info": {
   "codemirror_mode": {
    "name": "ipython",
    "version": 3
   },
   "file_extension": ".py",
   "mimetype": "text/x-python",
   "name": "python",
   "nbconvert_exporter": "python",
   "pygments_lexer": "ipython3",
   "version": "3.10.12"
  }
 },
 "nbformat": 4,
 "nbformat_minor": 2
}
