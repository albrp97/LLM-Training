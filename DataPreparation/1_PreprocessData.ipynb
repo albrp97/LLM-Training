{
 "cells": [
  {
   "cell_type": "code",
   "execution_count": 3,
   "id": "32f5a64a",
   "metadata": {},
   "outputs": [],
   "source": [
    "import pandas as pd"
   ]
  },
  {
   "cell_type": "code",
   "execution_count": 4,
   "id": "50cc5cb1",
   "metadata": {},
   "outputs": [],
   "source": [
    "\n",
    "\n",
    "datasets = {\n",
    "    \"squad_v2\": {\n",
    "                \"train\": \"hf://datasets/rajpurkar/squad_v2/squad_v2/train-00000-of-00001.parquet\",\n",
    "                \"test\": \"hf://datasets/rajpurkar/squad_v2/squad_v2/validation-00000-of-00001.parquet\"\n",
    "            },\n",
    "    \"ai2_arc\": {\n",
    "                \"train\": \"hf://datasets/allenai/ai2_arc/ARC-Challenge/train-00000-of-00001.parquet\",\n",
    "                \"test\": \"hf://datasets/allenai/ai2_arc/ARC-Challenge/test-00000-of-00001.parquet\"\n",
    "            },\n",
    "    \"boolq\": {\n",
    "                \"train\": \"hf://datasets/google/boolq/data/train-00000-of-00001.parquet\",\n",
    "                \"test\": \"hf://datasets/google/boolq/data/validation-00000-of-00001.parquet\"\n",
    "            }\n",
    "}\n",
    "\n",
    "def clean_data(dataset_name: str, df, type_of_dataset: str):\n",
    "    match dataset_name:\n",
    "        case \"squad_v2\":\n",
    "            df[\"answers\"] = df[\"answers\"].apply(\n",
    "                lambda x: x[\"text\"][0] if len(x.get(\"text\")) > 0 else \"\"\n",
    "            )\n",
    "            df.rename(\n",
    "                columns={\n",
    "                    \"answers\": \"answer\",\n",
    "                },\n",
    "                inplace=True,\n",
    "            )\n",
    "            df.drop(columns=\"id\", inplace=True)\n",
    "        case \"ai2_arc\":\n",
    "            df[\"choices\"] = df[\"choices\"].apply(\n",
    "                lambda x: \" \".join(\n",
    "                    [f\"{label}. {text}\" for label, text in zip(x[\"label\"], x[\"text\"])]\n",
    "                )\n",
    "            )\n",
    "            df[\"question\"] = df[\"question\"] + \" \" + df[\"choices\"]\n",
    "            df.rename(\n",
    "                columns={\n",
    "                    \"id\": \"title\",\n",
    "                    \"answerKey\": \"answer\",\n",
    "                },\n",
    "                inplace=True,\n",
    "            )\n",
    "            df.drop(columns=\"choices\", inplace=True)\n",
    "        case \"boolq\":\n",
    "            df.rename(\n",
    "                columns={\n",
    "                    \"passage\": \"context\",\n",
    "                },\n",
    "                inplace=True,\n",
    "            )\n",
    "\n",
    "    df.to_parquet(f\"../Datasets/{type_of_dataset}-{dataset_name}.parquet\")"
   ]
  },
  {
   "cell_type": "code",
   "execution_count": 5,
   "id": "9aecebde",
   "metadata": {},
   "outputs": [],
   "source": [
    "for dataset_name in datasets.keys():\n",
    "    dataset = datasets[dataset_name]\n",
    "    for type_of_dataset in dataset.keys():\n",
    "        df = pd.read_parquet(dataset[type_of_dataset])\n",
    "        clean_data(dataset_name, df, type_of_dataset)"
   ]
  }
 ],
 "metadata": {
  "kernelspec": {
   "display_name": "llm-training (3.12.3)",
   "language": "python",
   "name": "python3"
  },
  "language_info": {
   "codemirror_mode": {
    "name": "ipython",
    "version": 3
   },
   "file_extension": ".py",
   "mimetype": "text/x-python",
   "name": "python",
   "nbconvert_exporter": "python",
   "pygments_lexer": "ipython3",
   "version": "3.12.3"
  }
 },
 "nbformat": 4,
 "nbformat_minor": 5
}
