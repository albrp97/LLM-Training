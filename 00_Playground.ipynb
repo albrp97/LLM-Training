{
 "cells": [
  {
   "cell_type": "code",
   "execution_count": 1,
   "id": "ab984f4b",
   "metadata": {},
   "outputs": [
    {
     "name": "stdout",
     "output_type": "stream",
     "text": [
      "12.9\n"
     ]
    }
   ],
   "source": [
    "import torch\n",
    "print(torch.version.cuda)"
   ]
  },
  {
   "cell_type": "code",
   "execution_count": 1,
   "id": "56ca74ee",
   "metadata": {},
   "outputs": [
    {
     "name": "stderr",
     "output_type": "stream",
     "text": [
      "c:\\Users\\Ghiki\\AppData\\Local\\Programs\\Python\\Python313\\Lib\\site-packages\\tqdm\\auto.py:21: TqdmWarning: IProgress not found. Please update jupyter and ipywidgets. See https://ipywidgets.readthedocs.io/en/stable/user_install.html\n",
      "  from .autonotebook import tqdm as notebook_tqdm\n",
      "c:\\Users\\Ghiki\\AppData\\Local\\Programs\\Python\\Python313\\Lib\\site-packages\\huggingface_hub\\file_download.py:982: UserWarning: `local_dir_use_symlinks` parameter is deprecated and will be ignored. The process to download files to a local folder has been updated and do not rely on symlinks anymore. You only need to pass a destination folder as`local_dir`.\n",
      "For more details, check out https://huggingface.co/docs/huggingface_hub/main/en/guides/download#download-files-to-local-folder.\n",
      "  warnings.warn(\n",
      "Fetching 10 files: 100%|██████████| 10/10 [00:01<00:00,  8.55it/s]\n",
      "C:\\Users\\Ghiki\\AppData\\Local\\Temp\\ipykernel_18212\\3159268411.py:25: DeprecationWarning: datetime.datetime.utcnow() is deprecated and scheduled for removal in a future version. Use timezone-aware objects to represent datetimes in UTC: datetime.datetime.now(datetime.UTC).\n",
      "  \"downloaded_at\": datetime.datetime.utcnow().isoformat() + \"Z\",\n",
      "Fetching 12 files: 100%|██████████| 12/12 [00:03<00:00,  3.06it/s]"
     ]
    },
    {
     "name": "stdout",
     "output_type": "stream",
     "text": [
      "Ready:\n",
      " - Models\\Qwen3-0.6B_base \n",
      " - Models\\Qwen3-1.7B_base\n"
     ]
    },
    {
     "name": "stderr",
     "output_type": "stream",
     "text": [
      "\n"
     ]
    }
   ],
   "source": [
    "\n",
    "from pathlib import Path\n",
    "from huggingface_hub import snapshot_download\n",
    "import json, datetime\n",
    "\n",
    "MODELS_ROOT = Path(\"Models\")\n",
    "MODELS_ROOT.mkdir(parents=True, exist_ok=True)\n",
    "\n",
    "def materialize_base_model(repo_id: str, out_name: str):\n",
    "    dest = MODELS_ROOT / out_name\n",
    "    dest.mkdir(parents=True, exist_ok=True)\n",
    "\n",
    "    # Descarga todo el snapshot del repo al directorio destino (copiando archivos reales)\n",
    "    snapshot_download(\n",
    "        repo_id=repo_id,\n",
    "        local_dir=str(dest),\n",
    "        local_dir_use_symlinks=False,  # evita symlinks al caché\n",
    "    )\n",
    "\n",
    "    # Crea metadata mínima compatible con tu iterador\n",
    "    meta = {\n",
    "        \"model_info\": {\n",
    "            \"base_model\": repo_id,              # <- tu código lee esto\n",
    "            \"repo_id\": repo_id,\n",
    "            \"source\": \"huggingface\",\n",
    "            \"downloaded_at\": datetime.datetime.utcnow().isoformat() + \"Z\",\n",
    "            \"is_base_model\": True\n",
    "        },\n",
    "        \"training_parameters\": {\n",
    "            \"type\": \"pretrained\",               # no hay fine-tuning\n",
    "            \"notes\": \"Raw/base model snapshot.\",\n",
    "            \"output_dir\": str(dest)\n",
    "        }\n",
    "    }\n",
    "    (dest / \"training_metadata.json\").write_text(\n",
    "        json.dumps(meta, ensure_ascii=False, indent=2), encoding=\"utf-8\"\n",
    "    )\n",
    "    return dest\n",
    "\n",
    "# Qwen3 bases → ../Models/Qwen3-0.6B_base y ../Models/Qwen3-1.7B_base\n",
    "m06 = materialize_base_model(\"Qwen/Qwen3-0.6B\", \"Qwen3-0.6B_base\")\n",
    "m17 = materialize_base_model(\"Qwen/Qwen3-1.7B\", \"Qwen3-1.7B_base\")\n",
    "\n",
    "print(\"Ready:\\n -\", m06, \"\\n -\", m17)\n"
   ]
  }
 ],
 "metadata": {
  "kernelspec": {
   "display_name": "Python 3",
   "language": "python",
   "name": "python3"
  },
  "language_info": {
   "codemirror_mode": {
    "name": "ipython",
    "version": 3
   },
   "file_extension": ".py",
   "mimetype": "text/x-python",
   "name": "python",
   "nbconvert_exporter": "python",
   "pygments_lexer": "ipython3",
   "version": "3.13.5"
  }
 },
 "nbformat": 4,
 "nbformat_minor": 5
}
